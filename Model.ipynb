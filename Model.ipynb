{
  "nbformat": 4,
  "nbformat_minor": 0,
  "metadata": {
    "colab": {
      "provenance": [],
      "authorship_tag": "ABX9TyNjk5S614C2aM+VqNkV4UYY",
      "include_colab_link": true
    },
    "kernelspec": {
      "name": "python3",
      "display_name": "Python 3"
    },
    "language_info": {
      "name": "python"
    }
  },
  "cells": [
    {
      "cell_type": "markdown",
      "metadata": {
        "id": "view-in-github",
        "colab_type": "text"
      },
      "source": [
        "<a href=\"https://colab.research.google.com/github/Rishav045/Language_Detection_AI/blob/main/Model.ipynb\" target=\"_parent\"><img src=\"https://colab.research.google.com/assets/colab-badge.svg\" alt=\"Open In Colab\"/></a>"
      ]
    },
    {
      "cell_type": "code",
      "source": [],
      "metadata": {
        "id": "uDJ4jJoSr_I3"
      },
      "execution_count": null,
      "outputs": []
    },
    {
      "cell_type": "code",
      "source": [
        "# Importing the libraries\n",
        "import pandas as pd\n",
        "import numpy as np\n",
        "from sklearn.preprocessing import LabelEncoder\n",
        "from sklearn.model_selection import train_test_split\n",
        "from sklearn.linear_model import LogisticRegression\n",
        "from sklearn.feature_extraction.text import TfidfVectorizer\n",
        "import pickle\n",
        "import joblib\n",
        "encoder=LabelEncoder()\n",
        "#Importing the dataset \n",
        "data = pd.read_csv(\"/content/preprocessed.csv\")\n",
        "X = data[\"cleaned_Text\"]\n",
        "y = data[\"Language\"]\n",
        "y = encoder.fit_transform(y)\n",
        "#Transforming the raw data into array to feed into ml model\n",
        "tf=TfidfVectorizer(analyzer='char', ngram_range=(1, 3))\n",
        "X1 = tf.fit_transform(X).toarray()\n",
        "#Creating a pickle file for tf-idf vectorizer\n",
        "pickle.dump(tf, open('tf-idf.pkl', 'wb'))"
      ],
      "metadata": {
        "id": "QHmwpF0eFRpQ"
      },
      "execution_count": null,
      "outputs": []
    },
    {
      "cell_type": "code",
      "source": [
        "y=encoder.fit_transform(y)\n"
      ],
      "metadata": {
        "id": "TK35lPABLiX3"
      },
      "execution_count": null,
      "outputs": []
    },
    {
      "cell_type": "code",
      "execution_count": null,
      "metadata": {
        "id": "FbnUJ_F_pdP8"
      },
      "outputs": [],
      "source": [
        "import pandas as pd\n",
        "import numpy as np\n",
        "from sklearn.preprocessing import LabelEncoder\n",
        "from sklearn.model_selection import train_test_split\n",
        "from sklearn.linear_model import LogisticRegression\n",
        "from sklearn.feature_extraction.text import TfidfVectorizer\n",
        "import pickle\n",
        "import joblib\n",
        "encoder=LabelEncoder()\n",
        "data = pd.read_csv(\"/content/preprocessed.csv\")\n",
        "X = data[\"cleaned_Text\"]\n",
        "y = data[\"Language\"]\n",
        "y = encoder.fit_transform(y)\n",
        "tf=TfidfVectorizer(analyzer='char', ngram_range=(1, 3))\n",
        "X = tf.fit_transform(X).toarray()\n",
        "X_train, X_test, y_train, y_test = train_test_split(X, y, random_state=42)\n",
        "model=LogisticRegression()\n",
        "model.fit(X_train,y_train)\n",
        "pickle.dump(encoder, open('encoder.pkl', 'wb'))\n",
        "# Creating and exporting a pickle file \n",
        "pickle.dump(model, open('model.pkl', 'wb'))"
      ]
    },
    {
      "cell_type": "code",
      "source": [
        "from sklearn.metrics import accuracy_score, confusion_matrix"
      ],
      "metadata": {
        "id": "7tTmQ2E5wIyq"
      },
      "execution_count": null,
      "outputs": []
    },
    {
      "cell_type": "code",
      "source": [
        "# Function to make prediction\n",
        "def prediction(text):\n",
        "    \n",
        "        # model = models.get(name)\n",
        "  \n",
        "      x = tf.transform([text]).toarray()  # converting text to bag of words model (Vector)\n",
        "      lang = model.predict(x) # predicting the language\n",
        "      print(lang)\n",
        "      lang = encoder.inverse_transform(lang) # finding the language corresponding to the predicted value\n",
        "      print(encoder.classes_)\n",
        "      # print(encoder.inverse_transform(encoder.classes_))\n",
        "      print(\"The langauge is in\",lang[0])  # printing the language"
      ],
      "metadata": {
        "id": "QTwrvsQW8m01"
      },
      "execution_count": null,
      "outputs": []
    },
    {
      "cell_type": "code",
      "source": [
        "encoder.inverse_transform([1])"
      ],
      "metadata": {
        "colab": {
          "base_uri": "https://localhost:8080/"
        },
        "id": "Q_cUQx5mNXv8",
        "outputId": "9ced51a0-45e9-4cbb-d69c-5d2dc59179bc"
      },
      "execution_count": null,
      "outputs": [
        {
          "output_type": "execute_result",
          "data": {
            "text/plain": [
              "array([1])"
            ]
          },
          "metadata": {},
          "execution_count": 55
        }
      ]
    },
    {
      "cell_type": "code",
      "source": [
        "prediction(\"Hello there\")"
      ],
      "metadata": {
        "colab": {
          "base_uri": "https://localhost:8080/"
        },
        "id": "NXw6tZ0a8_y4",
        "outputId": "efb1b374-b0c8-4cd8-d490-3017792401dd"
      },
      "execution_count": null,
      "outputs": [
        {
          "output_type": "stream",
          "name": "stdout",
          "text": [
            "[3]\n",
            "['Arabic' 'Danish' 'Dutch' 'English' 'French' 'German' 'Greek' 'Hindi'\n",
            " 'Italian' 'Kannada' 'Malayalam' 'Portugeese' 'Russian' 'Spanish'\n",
            " 'Sweedish' 'Tamil' 'Turkish']\n",
            "The langauge is in English\n"
          ]
        }
      ]
    },
    {
      "cell_type": "code",
      "source": [
        "# extracting vectorizer and model from pickle file and testing it \n",
        "import pickle\n",
        "from sklearn.feature_extraction.text import TfidfVectorizer\n",
        "from sklearn.preprocessing import LabelEncoder\n",
        "encoder1=LabelEncoder();\n",
        "df= pd.read_csv(\"/content/preprocessed.csv\")\n",
        "model1 = pickle.load(open('/content/model.pkl', 'rb'))\n",
        "\n",
        "# tf=TfidfVectorizer(analyzer='char', ngram_range=(1, 3))\n",
        "# tf.fit_transform(df[\"cleaned_Text\"])\n",
        "X=\"Hello there\"\n",
        "# model1.fit([X])\n",
        "X= tf.transform([X]).toarray()\n",
        "lang = model1.predict(X)\n",
        "lang = encoder.inverse_transform(lang)\n",
        "result = lang[0]\n",
        "print(result)\n"
      ],
      "metadata": {
        "colab": {
          "base_uri": "https://localhost:8080/"
        },
        "id": "qbE5GOhu40Nt",
        "outputId": "0c3f6ae1-bb73-449f-bc28-ecf892259358"
      },
      "execution_count": null,
      "outputs": [
        {
          "output_type": "stream",
          "name": "stdout",
          "text": [
            "English\n"
          ]
        }
      ]
    },
    {
      "cell_type": "code",
      "source": [
        "# Flask app running on server\n",
        "from flask import Flask, request, redirect\n",
        "from sklearn.externals import joblib\n",
        "from sklearn.feature_extraction.text import TfidfVectorizer\n",
        "from sklearn.preprocessing import LabelEncoder\n",
        "import json\n",
        "import time\n",
        "app = Flask(__name__)\n",
        "model = joblib.load('model.pkl')\n",
        "@app.route(\"/\")\n",
        "def root():\n",
        "    return {\"message\":\"Hello this is a home page\"}\n",
        "@app.route(\"/predict\", methods=['POST'])\n",
        "def make_prediction():\n",
        "\n",
        "    if request.method == 'POST':\n",
        "        encoder = LabelEncoder()\n",
        "        X = str(request.args.get('text'))\n",
        "        tf=TfidfVectorizer()\n",
        "        X= tf.fit_transform(X).toarray()\n",
        "        lang = model.predict(x)\n",
        "        lang = encoder.inverse_transform(lang)\n",
        "        result = lang[0]\n",
        "         \n",
        "        \n",
        "\n",
        "    data_set={'output':result}\n",
        "    json_dump = json.dumps(data_set)\n",
        "    return json_dump\n",
        "if __name__ == '__main__':\n",
        "    app.run(  debug=True)"
      ],
      "metadata": {
        "id": "aOGy4Gr-OeYO"
      },
      "execution_count": null,
      "outputs": []
    },
    {
      "cell_type": "code",
      "source": [
        "acc_score = accuracy_score(y_test, model1.predict(X_test))\n",
        "acc_score"
      ],
      "metadata": {
        "colab": {
          "base_uri": "https://localhost:8080/"
        },
        "id": "ter5kDYVv2R2",
        "outputId": "fa919da0-6310-42fb-9b69-576533cbdb0e"
      },
      "execution_count": null,
      "outputs": [
        {
          "output_type": "execute_result",
          "data": {
            "text/plain": [
              "0.9844428364688856"
            ]
          },
          "metadata": {},
          "execution_count": 5
        }
      ]
    }
  ]
}